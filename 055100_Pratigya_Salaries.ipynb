{
 "cells": [
  {
   "cell_type": "code",
   "execution_count": 17,
   "id": "e50dcba3-a07f-402a-993e-de44090bc579",
   "metadata": {},
   "outputs": [],
   "source": [
    "import numpy as np\n",
    "import pandas as pd"
   ]
  },
  {
   "cell_type": "code",
   "execution_count": 18,
   "id": "2a62d604-1e30-4302-b609-704bb678f2df",
   "metadata": {},
   "outputs": [],
   "source": [
    "df = pd.read_csv('C:/Users/asus/Desktop/DEVP/salaries.csv')"
   ]
  },
  {
   "cell_type": "code",
   "execution_count": 19,
   "id": "75d1ae58-6aba-4d8c-903d-9cf291277ef6",
   "metadata": {},
   "outputs": [
    {
     "data": {
      "text/html": [
       "<div>\n",
       "<style scoped>\n",
       "    .dataframe tbody tr th:only-of-type {\n",
       "        vertical-align: middle;\n",
       "    }\n",
       "\n",
       "    .dataframe tbody tr th {\n",
       "        vertical-align: top;\n",
       "    }\n",
       "\n",
       "    .dataframe thead th {\n",
       "        text-align: right;\n",
       "    }\n",
       "</style>\n",
       "<table border=\"1\" class=\"dataframe\">\n",
       "  <thead>\n",
       "    <tr style=\"text-align: right;\">\n",
       "      <th></th>\n",
       "      <th>Id</th>\n",
       "      <th>EmployeeName</th>\n",
       "      <th>JobTitle</th>\n",
       "      <th>BasePay</th>\n",
       "      <th>OvertimePay</th>\n",
       "      <th>OtherPay</th>\n",
       "      <th>Benefits</th>\n",
       "      <th>TotalPay</th>\n",
       "      <th>TotalPayBenefits</th>\n",
       "      <th>Year</th>\n",
       "      <th>ServiceYear</th>\n",
       "      <th>Agency</th>\n",
       "      <th>Status</th>\n",
       "    </tr>\n",
       "  </thead>\n",
       "  <tbody>\n",
       "    <tr>\n",
       "      <th>0</th>\n",
       "      <td>1</td>\n",
       "      <td>AMY BROWNELL</td>\n",
       "      <td>ADMINISTRATIVE ENGINEER</td>\n",
       "      <td>130171.24</td>\n",
       "      <td>0.0</td>\n",
       "      <td>0.00</td>\n",
       "      <td>Regular</td>\n",
       "      <td>130171.24</td>\n",
       "      <td>130171.24</td>\n",
       "      <td>2023</td>\n",
       "      <td>1</td>\n",
       "      <td>San Francisco Talent Portal</td>\n",
       "      <td>Active</td>\n",
       "    </tr>\n",
       "    <tr>\n",
       "      <th>1</th>\n",
       "      <td>2</td>\n",
       "      <td>CHARLES YU</td>\n",
       "      <td>ADMINISTRATIVE ENGINEER</td>\n",
       "      <td>130171.05</td>\n",
       "      <td>0.0</td>\n",
       "      <td>0.00</td>\n",
       "      <td>Regular</td>\n",
       "      <td>130171.05</td>\n",
       "      <td>130171.05</td>\n",
       "      <td>2023</td>\n",
       "      <td>1</td>\n",
       "      <td>San Francisco Talent Portal</td>\n",
       "      <td>Active</td>\n",
       "    </tr>\n",
       "    <tr>\n",
       "      <th>2</th>\n",
       "      <td>3</td>\n",
       "      <td>LORA BOWMAN</td>\n",
       "      <td>ADMINISTRATIVE ENGINEER</td>\n",
       "      <td>128923.30</td>\n",
       "      <td>0.0</td>\n",
       "      <td>0.00</td>\n",
       "      <td>Regular</td>\n",
       "      <td>128923.30</td>\n",
       "      <td>128923.30</td>\n",
       "      <td>2023</td>\n",
       "      <td>5</td>\n",
       "      <td>San Francisco Talent Portal</td>\n",
       "      <td>Active</td>\n",
       "    </tr>\n",
       "    <tr>\n",
       "      <th>3</th>\n",
       "      <td>4</td>\n",
       "      <td>RAUL MOSUELA</td>\n",
       "      <td>ADMINISTRATIVE ENGINEER</td>\n",
       "      <td>130171.02</td>\n",
       "      <td>0.0</td>\n",
       "      <td>0.00</td>\n",
       "      <td>Regular</td>\n",
       "      <td>130171.02</td>\n",
       "      <td>130171.02</td>\n",
       "      <td>2023</td>\n",
       "      <td>1</td>\n",
       "      <td>San Francisco Talent Portal</td>\n",
       "      <td>Inactive</td>\n",
       "    </tr>\n",
       "    <tr>\n",
       "      <th>4</th>\n",
       "      <td>5</td>\n",
       "      <td>SEVERINO CARANTO-JR</td>\n",
       "      <td>ADMINISTRATIVE ENGINEER</td>\n",
       "      <td>136679.61</td>\n",
       "      <td>0.0</td>\n",
       "      <td>0.00</td>\n",
       "      <td>Contract</td>\n",
       "      <td>136679.61</td>\n",
       "      <td>136679.61</td>\n",
       "      <td>2023</td>\n",
       "      <td>11</td>\n",
       "      <td>San Francisco Talent Portal</td>\n",
       "      <td>Active</td>\n",
       "    </tr>\n",
       "    <tr>\n",
       "      <th>5</th>\n",
       "      <td>6</td>\n",
       "      <td>SUSAN LEONG</td>\n",
       "      <td>ADMINISTRATIVE ENGINEER</td>\n",
       "      <td>130171.08</td>\n",
       "      <td>0.0</td>\n",
       "      <td>0.00</td>\n",
       "      <td>Regular</td>\n",
       "      <td>130171.08</td>\n",
       "      <td>130171.08</td>\n",
       "      <td>2023</td>\n",
       "      <td>1</td>\n",
       "      <td>San Francisco Talent Portal</td>\n",
       "      <td>Inactive</td>\n",
       "    </tr>\n",
       "    <tr>\n",
       "      <th>6</th>\n",
       "      <td>7</td>\n",
       "      <td>TIMOTHY LEUNG</td>\n",
       "      <td>ADMINISTRATIVE ENGINEER</td>\n",
       "      <td>130171.00</td>\n",
       "      <td>0.0</td>\n",
       "      <td>4805.96</td>\n",
       "      <td>Contract</td>\n",
       "      <td>134976.96</td>\n",
       "      <td>134976.96</td>\n",
       "      <td>2023</td>\n",
       "      <td>14</td>\n",
       "      <td>San Francisco Talent Portal</td>\n",
       "      <td>Active</td>\n",
       "    </tr>\n",
       "    <tr>\n",
       "      <th>7</th>\n",
       "      <td>8</td>\n",
       "      <td>WALLACE WONG</td>\n",
       "      <td>ADMINISTRATIVE ENGINEER</td>\n",
       "      <td>103219.63</td>\n",
       "      <td>0.0</td>\n",
       "      <td>46102.60</td>\n",
       "      <td>Contract</td>\n",
       "      <td>149322.23</td>\n",
       "      <td>149322.23</td>\n",
       "      <td>2023</td>\n",
       "      <td>9</td>\n",
       "      <td>San Francisco Talent Portal</td>\n",
       "      <td>Active</td>\n",
       "    </tr>\n",
       "    <tr>\n",
       "      <th>8</th>\n",
       "      <td>9</td>\n",
       "      <td>SUSAN CURRIN</td>\n",
       "      <td>ADMINISTRATOR, SFGH MEDICAL CENTER</td>\n",
       "      <td>245124.44</td>\n",
       "      <td>0.0</td>\n",
       "      <td>12000.00</td>\n",
       "      <td>Contract</td>\n",
       "      <td>257124.44</td>\n",
       "      <td>257124.44</td>\n",
       "      <td>2023</td>\n",
       "      <td>5</td>\n",
       "      <td>San Francisco Talent Portal</td>\n",
       "      <td>Active</td>\n",
       "    </tr>\n",
       "    <tr>\n",
       "      <th>9</th>\n",
       "      <td>10</td>\n",
       "      <td>TIMOTHY HATFIELD</td>\n",
       "      <td>AIRPORT MECHANICAL MAINTENANCE SUPERVISOR</td>\n",
       "      <td>118978.52</td>\n",
       "      <td>0.0</td>\n",
       "      <td>9555.65</td>\n",
       "      <td>Contract</td>\n",
       "      <td>128534.17</td>\n",
       "      <td>128534.17</td>\n",
       "      <td>2023</td>\n",
       "      <td>4</td>\n",
       "      <td>San Francisco Talent Portal</td>\n",
       "      <td>Active</td>\n",
       "    </tr>\n",
       "  </tbody>\n",
       "</table>\n",
       "</div>"
      ],
      "text/plain": [
       "   Id         EmployeeName                                   JobTitle  \\\n",
       "0   1         AMY BROWNELL                    ADMINISTRATIVE ENGINEER   \n",
       "1   2           CHARLES YU                    ADMINISTRATIVE ENGINEER   \n",
       "2   3          LORA BOWMAN                    ADMINISTRATIVE ENGINEER   \n",
       "3   4         RAUL MOSUELA                    ADMINISTRATIVE ENGINEER   \n",
       "4   5  SEVERINO CARANTO-JR                    ADMINISTRATIVE ENGINEER   \n",
       "5   6          SUSAN LEONG                    ADMINISTRATIVE ENGINEER   \n",
       "6   7        TIMOTHY LEUNG                    ADMINISTRATIVE ENGINEER   \n",
       "7   8         WALLACE WONG                    ADMINISTRATIVE ENGINEER   \n",
       "8   9         SUSAN CURRIN         ADMINISTRATOR, SFGH MEDICAL CENTER   \n",
       "9  10     TIMOTHY HATFIELD  AIRPORT MECHANICAL MAINTENANCE SUPERVISOR   \n",
       "\n",
       "     BasePay  OvertimePay  OtherPay  Benefits   TotalPay  TotalPayBenefits  \\\n",
       "0  130171.24          0.0      0.00   Regular  130171.24         130171.24   \n",
       "1  130171.05          0.0      0.00   Regular  130171.05         130171.05   \n",
       "2  128923.30          0.0      0.00   Regular  128923.30         128923.30   \n",
       "3  130171.02          0.0      0.00   Regular  130171.02         130171.02   \n",
       "4  136679.61          0.0      0.00  Contract  136679.61         136679.61   \n",
       "5  130171.08          0.0      0.00   Regular  130171.08         130171.08   \n",
       "6  130171.00          0.0   4805.96  Contract  134976.96         134976.96   \n",
       "7  103219.63          0.0  46102.60  Contract  149322.23         149322.23   \n",
       "8  245124.44          0.0  12000.00  Contract  257124.44         257124.44   \n",
       "9  118978.52          0.0   9555.65  Contract  128534.17         128534.17   \n",
       "\n",
       "   Year  ServiceYear                       Agency    Status  \n",
       "0  2023            1  San Francisco Talent Portal    Active  \n",
       "1  2023            1  San Francisco Talent Portal    Active  \n",
       "2  2023            5  San Francisco Talent Portal    Active  \n",
       "3  2023            1  San Francisco Talent Portal  Inactive  \n",
       "4  2023           11  San Francisco Talent Portal    Active  \n",
       "5  2023            1  San Francisco Talent Portal  Inactive  \n",
       "6  2023           14  San Francisco Talent Portal    Active  \n",
       "7  2023            9  San Francisco Talent Portal    Active  \n",
       "8  2023            5  San Francisco Talent Portal    Active  \n",
       "9  2023            4  San Francisco Talent Portal    Active  "
      ]
     },
     "execution_count": 19,
     "metadata": {},
     "output_type": "execute_result"
    }
   ],
   "source": [
    "df . head(10)"
   ]
  },
  {
   "cell_type": "code",
   "execution_count": 24,
   "id": "a33890f1-f917-4f74-9f61-151006886ecc",
   "metadata": {},
   "outputs": [
    {
     "name": "stdout",
     "output_type": "stream",
     "text": [
      "<class 'pandas.core.frame.DataFrame'>\n",
      "RangeIndex: 5000 entries, 0 to 4999\n",
      "Data columns (total 13 columns):\n",
      " #   Column            Non-Null Count  Dtype  \n",
      "---  ------            --------------  -----  \n",
      " 0   Id                5000 non-null   int64  \n",
      " 1   EmployeeName      5000 non-null   object \n",
      " 2   JobTitle          5000 non-null   object \n",
      " 3   BasePay           5000 non-null   float64\n",
      " 4   OvertimePay       5000 non-null   float64\n",
      " 5   OtherPay          5000 non-null   float64\n",
      " 6   Benefits          5000 non-null   object \n",
      " 7   TotalPay          5000 non-null   float64\n",
      " 8   TotalPayBenefits  5000 non-null   float64\n",
      " 9   Year              5000 non-null   int64  \n",
      " 10  ServiceYear       5000 non-null   int64  \n",
      " 11  Agency            5000 non-null   object \n",
      " 12  Status            5000 non-null   object \n",
      "dtypes: float64(5), int64(3), object(5)\n",
      "memory usage: 507.9+ KB\n"
     ]
    }
   ],
   "source": [
    "df.info()"
   ]
  },
  {
   "cell_type": "code",
   "execution_count": 26,
   "id": "4b1e2d54-c905-4947-bd3b-e5f322dce250",
   "metadata": {},
   "outputs": [
    {
     "data": {
      "text/plain": [
       "(5000, 13)"
      ]
     },
     "execution_count": 26,
     "metadata": {},
     "output_type": "execute_result"
    }
   ],
   "source": [
    "df.shape"
   ]
  },
  {
   "cell_type": "code",
   "execution_count": 32,
   "id": "4630ab64-61cd-4e75-b852-9895ba03e29c",
   "metadata": {},
   "outputs": [
    {
     "data": {
      "text/plain": [
       "0       130171\n",
       "1       130171\n",
       "2       128923\n",
       "3       130171\n",
       "4       136679\n",
       "         ...  \n",
       "4995    115415\n",
       "4996     77670\n",
       "4997     74932\n",
       "4998     77916\n",
       "4999     74628\n",
       "Name: BasePay, Length: 5000, dtype: int32"
      ]
     },
     "execution_count": 32,
     "metadata": {},
     "output_type": "execute_result"
    }
   ],
   "source": [
    "df['BasePay'].astype(int)"
   ]
  },
  {
   "cell_type": "code",
   "execution_count": 36,
   "id": "1f36ab83-f468-4787-a5cf-24f502364564",
   "metadata": {},
   "outputs": [
    {
     "name": "stdout",
     "output_type": "stream",
     "text": [
      "The average BasePay is: 125827.222766\n"
     ]
    }
   ],
   "source": [
    "average_basepay = df['BasePay'].mean()\n",
    "print(\"The average BasePay is:\", average_basepay)"
   ]
  },
  {
   "cell_type": "code",
   "execution_count": 38,
   "id": "5de49d22-bc2c-4d5b-8b9f-4762fdd53461",
   "metadata": {},
   "outputs": [
    {
     "name": "stdout",
     "output_type": "stream",
     "text": [
      "Columns in the dataset: Index(['Id', 'EmployeeName', 'JobTitle', 'BasePay', 'OvertimePay', 'OtherPay',\n",
      "       'Benefits', 'TotalPay', 'TotalPayBenefits', 'Year', 'ServiceYear',\n",
      "       'Agency', 'Status'],\n",
      "      dtype='object')\n"
     ]
    }
   ],
   "source": [
    "columns = df.columns\n",
    "print(\"Columns in the dataset:\", columns)"
   ]
  },
  {
   "cell_type": "code",
   "execution_count": 40,
   "id": "f1ba8739-dc09-428e-a11c-4173d8269ceb",
   "metadata": {},
   "outputs": [
    {
     "name": "stdout",
     "output_type": "stream",
     "text": [
      "The highest amount of OvertimePay is: 245131.88\n"
     ]
    }
   ],
   "source": [
    "max_overtimepay = df['OvertimePay'].max()\n",
    "print(\"The highest amount of OvertimePay is:\", max_overtimepay)"
   ]
  },
  {
   "cell_type": "code",
   "execution_count": 42,
   "id": "9a7bc68b-3b57-463a-a4f3-d4da93a69929",
   "metadata": {},
   "outputs": [
    {
     "name": "stdout",
     "output_type": "stream",
     "text": [
      "The number of unique job titles is: 268\n"
     ]
    }
   ],
   "source": [
    "unique_job_titles_count = df['JobTitle'].nunique()\n",
    "print(\"The number of unique job titles is:\", unique_job_titles_count)"
   ]
  },
  {
   "cell_type": "code",
   "execution_count": 44,
   "id": "61bcec5e-f400-4cf2-bb67-7cd468c18299",
   "metadata": {},
   "outputs": [
    {
     "name": "stdout",
     "output_type": "stream",
     "text": [
      "                Id        BasePay    OvertimePay       OtherPay  \\\n",
      "count  5000.000000    5000.000000    5000.000000    5000.000000   \n",
      "mean   2500.500000  125827.222766   14643.700534   12713.297346   \n",
      "std    1443.520003   27735.858422   20742.384989   16077.930990   \n",
      "min       1.000000       0.000000       0.000000       0.000000   \n",
      "25%    1250.750000  105934.720000       0.000000    3019.247500   \n",
      "50%    2500.500000  123105.000000    6562.645000   10126.650000   \n",
      "75%    3750.250000  139023.230000   19950.072500   17209.422500   \n",
      "max    5000.000000  294580.020000  245131.880000  400184.250000   \n",
      "\n",
      "            TotalPay  TotalPayBenefits    Year  ServiceYear  \n",
      "count    5000.000000       5000.000000  5000.0  5000.000000  \n",
      "mean   153184.220646     153184.220646  2023.0     5.234400  \n",
      "std     27082.773519      27082.773519     0.0     4.117238  \n",
      "min    124227.760000     124227.760000  2023.0     1.000000  \n",
      "25%    133508.180000     133508.180000  2023.0     2.000000  \n",
      "50%    146556.800000     146556.800000  2023.0     4.000000  \n",
      "75%    164373.380000     164373.380000  2023.0     7.000000  \n",
      "max    567595.430000     567595.430000  2023.0    19.000000  \n"
     ]
    }
   ],
   "source": [
    "numerical_summary = df.describe()\n",
    "print(numerical_summary)"
   ]
  },
  {
   "cell_type": "code",
   "execution_count": null,
   "id": "06930073-c75e-48a1-8f89-5b176440bba7",
   "metadata": {},
   "outputs": [],
   "source": []
  }
 ],
 "metadata": {
  "kernelspec": {
   "display_name": "Python 3 (ipykernel)",
   "language": "python",
   "name": "python3"
  },
  "language_info": {
   "codemirror_mode": {
    "name": "ipython",
    "version": 3
   },
   "file_extension": ".py",
   "mimetype": "text/x-python",
   "name": "python",
   "nbconvert_exporter": "python",
   "pygments_lexer": "ipython3",
   "version": "3.12.4"
  }
 },
 "nbformat": 4,
 "nbformat_minor": 5
}
